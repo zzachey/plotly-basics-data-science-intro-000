{
 "cells": [
  {
   "cell_type": "markdown",
   "metadata": {},
   "source": [
    "# Going deeper with Plotly"
   ]
  },
  {
   "cell_type": "markdown",
   "metadata": {},
   "source": [
    "### Learning Objectives"
   ]
  },
  {
   "cell_type": "markdown",
   "metadata": {},
   "source": [
    "* Understand the iplot method\n",
    "* Understand how to create different traces/plots like a scatter plot, or a line plot\n",
    "* Understand how to have a chart with multiple traces"
   ]
  },
  {
   "cell_type": "markdown",
   "metadata": {},
   "source": [
    "### Introduction"
   ]
  },
  {
   "cell_type": "markdown",
   "metadata": {},
   "source": [
    "As you've seen in recent lessons, data science leans on data visualizations to draw inferences about our data, and to make sense of the math we use in making sense of this data.  We saw how plotting data with a bar chart can be used to show the relationship between $x$ and $y$ variables.  \n",
    "\n",
    "In this lesson, we'll explore more of the functionality of the Plotly library.  As we do so, pay careful attention to the data type that our methods require: whether they are dictionaries or lists, or lists of dictionaries.  Ok, let's go!"
   ]
  },
  {
   "cell_type": "markdown",
   "metadata": {},
   "source": [
    "### Drawing a line"
   ]
  },
  {
   "cell_type": "markdown",
   "metadata": {},
   "source": [
    "As you know, to get started with Plotly, we first install the library on our computer.  Let's do so in Jupyter by executing the cell below."
   ]
  },
  {
   "cell_type": "code",
   "execution_count": 1,
   "metadata": {},
   "outputs": [
    {
     "name": "stdout",
     "output_type": "stream",
     "text": [
      "Requirement already satisfied: plotly in /opt/conda/envs/learn-env/lib/python3.6/site-packages (3.1.0)\n",
      "Requirement already satisfied: decorator>=4.0.6 in /opt/conda/envs/learn-env/lib/python3.6/site-packages (from plotly) (4.3.0)\n",
      "Requirement already satisfied: nbformat>=4.2 in /opt/conda/envs/learn-env/lib/python3.6/site-packages (from plotly) (4.4.0)\n",
      "Requirement already satisfied: pytz in /opt/conda/envs/learn-env/lib/python3.6/site-packages (from plotly) (2018.5)\n",
      "Requirement already satisfied: requests in /opt/conda/envs/learn-env/lib/python3.6/site-packages (from plotly) (2.19.1)\n",
      "Requirement already satisfied: retrying>=1.3.3 in /opt/conda/envs/learn-env/lib/python3.6/site-packages (from plotly) (1.3.3)\n",
      "Requirement already satisfied: six in /opt/conda/envs/learn-env/lib/python3.6/site-packages (from plotly) (1.11.0)\n",
      "Requirement already satisfied: jsonschema!=2.5.0,>=2.4 in /opt/conda/envs/learn-env/lib/python3.6/site-packages (from nbformat>=4.2->plotly) (2.6.0)\n",
      "Requirement already satisfied: ipython-genutils in /opt/conda/envs/learn-env/lib/python3.6/site-packages (from nbformat>=4.2->plotly) (0.2.0)\n",
      "Requirement already satisfied: traitlets>=4.1 in /opt/conda/envs/learn-env/lib/python3.6/site-packages (from nbformat>=4.2->plotly) (4.3.2)\n",
      "Requirement already satisfied: jupyter-core in /opt/conda/envs/learn-env/lib/python3.6/site-packages (from nbformat>=4.2->plotly) (4.4.0)\n",
      "Requirement already satisfied: urllib3<1.24,>=1.21.1 in /opt/conda/envs/learn-env/lib/python3.6/site-packages (from requests->plotly) (1.23)\n",
      "Requirement already satisfied: chardet<3.1.0,>=3.0.2 in /opt/conda/envs/learn-env/lib/python3.6/site-packages (from requests->plotly) (3.0.4)\n",
      "Requirement already satisfied: idna<2.8,>=2.5 in /opt/conda/envs/learn-env/lib/python3.6/site-packages (from requests->plotly) (2.7)\n",
      "Requirement already satisfied: certifi>=2017.4.17 in /opt/conda/envs/learn-env/lib/python3.6/site-packages (from requests->plotly) (2018.8.13)\n",
      "\u001b[33mYou are using pip version 10.0.1, however version 19.1.1 is available.\n",
      "You should consider upgrading via the 'pip install --upgrade pip' command.\u001b[0m\n"
     ]
    }
   ],
   "source": [
    "!pip install plotly"
   ]
  },
  {
   "cell_type": "markdown",
   "metadata": {},
   "source": [
    "If plotly is already on your computer, pip will tell you that the requirement is already satisfied.  That's ok, we can happily proceed."
   ]
  },
  {
   "cell_type": "markdown",
   "metadata": {},
   "source": [
    "The next step is to import the plotly library. "
   ]
  },
  {
   "cell_type": "code",
   "execution_count": 2,
   "metadata": {},
   "outputs": [
    {
     "data": {
      "text/html": [
       "<script>requirejs.config({paths: { 'plotly': ['https://cdn.plot.ly/plotly-latest.min']},});if(!window.Plotly) {{require(['plotly'],function(plotly) {window.Plotly=plotly;});}}</script>"
      ],
      "text/vnd.plotly.v1+html": [
       "<script>requirejs.config({paths: { 'plotly': ['https://cdn.plot.ly/plotly-latest.min']},});if(!window.Plotly) {{require(['plotly'],function(plotly) {window.Plotly=plotly;});}}</script>"
      ]
     },
     "metadata": {},
     "output_type": "display_data"
    }
   ],
   "source": [
    "import plotly\n",
    "from plotly.offline import iplot, init_notebook_mode\n",
    "init_notebook_mode(connected=True)"
   ]
  },
  {
   "cell_type": "markdown",
   "metadata": {},
   "source": [
    "If we plot offline, we do not need to provide a login.  So we plot offline, while plotting our first plot with the below line."
   ]
  },
  {
   "cell_type": "code",
   "execution_count": 3,
   "metadata": {},
   "outputs": [
    {
     "data": {
      "application/vnd.plotly.v1+json": {
       "data": [
        {
         "type": "scatter",
         "uid": "8b29c57e-7100-11e9-9634-953ac1600959"
        }
       ],
       "layout": {}
      },
      "text/html": [
       "<div id=\"c019cef6-e5d3-4781-b09b-ed008e842ed5\" style=\"height: 525px; width: 100%;\" class=\"plotly-graph-div\"></div><script type=\"text/javascript\">require([\"plotly\"], function(Plotly) { window.PLOTLYENV=window.PLOTLYENV || {};window.PLOTLYENV.BASE_URL=\"https://plot.ly\";Plotly.newPlot(\"c019cef6-e5d3-4781-b09b-ed008e842ed5\", [{\"type\": \"scatter\", \"uid\": \"8b4ab11c-7100-11e9-9634-953ac1600959\"}], {}, {\"showLink\": true, \"linkText\": \"Export to plot.ly\"})});</script>"
      ],
      "text/vnd.plotly.v1+html": [
       "<div id=\"c019cef6-e5d3-4781-b09b-ed008e842ed5\" style=\"height: 525px; width: 100%;\" class=\"plotly-graph-div\"></div><script type=\"text/javascript\">require([\"plotly\"], function(Plotly) { window.PLOTLYENV=window.PLOTLYENV || {};window.PLOTLYENV.BASE_URL=\"https://plot.ly\";Plotly.newPlot(\"c019cef6-e5d3-4781-b09b-ed008e842ed5\", [{\"type\": \"scatter\", \"uid\": \"8b4ab11c-7100-11e9-9634-953ac1600959\"}], {}, {\"showLink\": true, \"linkText\": \"Export to plot.ly\"})});</script>"
      ]
     },
     "metadata": {},
     "output_type": "display_data"
    }
   ],
   "source": [
    "plotly.offline.iplot([\n",
    "    {}\n",
    "])"
   ]
  },
  {
   "cell_type": "markdown",
   "metadata": {},
   "source": [
    "Let's take another look at that line of code.\n",
    "```python\n",
    "plotly.offline.iplot([\n",
    "    {}\n",
    "])\n",
    "```\n",
    "\n",
    "We reference the `plotly` library, which we imported above.  Then we pass a list containing a dictionary to the `iplot` method.  That dictionary can represent a scatter trace, a line trace, or other types of traces.  \n",
    "\n",
    "We pass the trace into a list because we can have more than one trace in the same graph - for example two bar traces displayed side by side or a scatter trace underneath a line trace.  "
   ]
  },
  {
   "cell_type": "markdown",
   "metadata": {},
   "source": [
    "Now let's discuss how a trace represents data.  In the `trace` in the code below, we plot four points.  Notice that we provide the $x$ and $y$ coordinates in two separate attributes of the dictionary.  Change around the data to get a feel for how it works."
   ]
  },
  {
   "cell_type": "code",
   "execution_count": 4,
   "metadata": {},
   "outputs": [
    {
     "data": {
      "application/vnd.plotly.v1+json": {
       "data": [
        {
         "type": "scatter",
         "uid": "b053019e-7100-11e9-9634-953ac1600959",
         "x": [
          1,
          2,
          3,
          4
         ],
         "y": [
          1,
          2,
          3,
          4
         ]
        }
       ],
       "layout": {}
      },
      "text/html": [
       "<div id=\"d38a45a7-924c-4625-a03e-b21e59711fd5\" style=\"height: 525px; width: 100%;\" class=\"plotly-graph-div\"></div><script type=\"text/javascript\">require([\"plotly\"], function(Plotly) { window.PLOTLYENV=window.PLOTLYENV || {};window.PLOTLYENV.BASE_URL=\"https://plot.ly\";Plotly.newPlot(\"d38a45a7-924c-4625-a03e-b21e59711fd5\", [{\"x\": [1, 2, 3, 4], \"y\": [1, 2, 3, 4], \"type\": \"scatter\", \"uid\": \"b058235e-7100-11e9-9634-953ac1600959\"}], {}, {\"showLink\": true, \"linkText\": \"Export to plot.ly\"})});</script>"
      ],
      "text/vnd.plotly.v1+html": [
       "<div id=\"d38a45a7-924c-4625-a03e-b21e59711fd5\" style=\"height: 525px; width: 100%;\" class=\"plotly-graph-div\"></div><script type=\"text/javascript\">require([\"plotly\"], function(Plotly) { window.PLOTLYENV=window.PLOTLYENV || {};window.PLOTLYENV.BASE_URL=\"https://plot.ly\";Plotly.newPlot(\"d38a45a7-924c-4625-a03e-b21e59711fd5\", [{\"x\": [1, 2, 3, 4], \"y\": [1, 2, 3, 4], \"type\": \"scatter\", \"uid\": \"b058235e-7100-11e9-9634-953ac1600959\"}], {}, {\"showLink\": true, \"linkText\": \"Export to plot.ly\"})});</script>"
      ]
     },
     "metadata": {},
     "output_type": "display_data"
    }
   ],
   "source": [
    "trace = {'x': [1, 2, 3, 4], 'y': [1, 2, 3, 4]}\n",
    "\n",
    "plotly.offline.iplot([\n",
    "    trace\n",
    "])"
   ]
  },
  {
   "cell_type": "markdown",
   "metadata": {},
   "source": [
    "The plot above has one trace which is a line trace.  However, this type of trace is just the default.  Note, that we did not specify any particular type.\n",
    "\n",
    "```python\n",
    "trace = {'x': [1, 2, 3, 4], 'y': [1, 2, 3, 4]}\n",
    "```\n",
    "\n",
    "We can change it by changing the mode to `markers`.  While we are at it, let's also change the color of the markers.  "
   ]
  },
  {
   "cell_type": "code",
   "execution_count": 5,
   "metadata": {},
   "outputs": [
    {
     "data": {
      "application/vnd.plotly.v1+json": {
       "data": [
        {
         "marker": {
          "color": "rgba(255, 182, 193, .9)"
         },
         "mode": "markers",
         "type": "scatter",
         "uid": "b993551a-7100-11e9-9634-953ac1600959",
         "x": [
          1,
          2,
          3,
          4
         ],
         "y": [
          1,
          2,
          3,
          4
         ]
        }
       ],
       "layout": {}
      },
      "text/html": [
       "<div id=\"cca81ae8-9e7e-412f-baa7-144e3c845cae\" style=\"height: 525px; width: 100%;\" class=\"plotly-graph-div\"></div><script type=\"text/javascript\">require([\"plotly\"], function(Plotly) { window.PLOTLYENV=window.PLOTLYENV || {};window.PLOTLYENV.BASE_URL=\"https://plot.ly\";Plotly.newPlot(\"cca81ae8-9e7e-412f-baa7-144e3c845cae\", [{\"marker\": {\"color\": \"rgba(255, 182, 193, .9)\"}, \"mode\": \"markers\", \"x\": [1, 2, 3, 4], \"y\": [1, 2, 3, 4], \"type\": \"scatter\", \"uid\": \"b99f6288-7100-11e9-9634-953ac1600959\"}], {}, {\"showLink\": true, \"linkText\": \"Export to plot.ly\"})});</script>"
      ],
      "text/vnd.plotly.v1+html": [
       "<div id=\"cca81ae8-9e7e-412f-baa7-144e3c845cae\" style=\"height: 525px; width: 100%;\" class=\"plotly-graph-div\"></div><script type=\"text/javascript\">require([\"plotly\"], function(Plotly) { window.PLOTLYENV=window.PLOTLYENV || {};window.PLOTLYENV.BASE_URL=\"https://plot.ly\";Plotly.newPlot(\"cca81ae8-9e7e-412f-baa7-144e3c845cae\", [{\"marker\": {\"color\": \"rgba(255, 182, 193, .9)\"}, \"mode\": \"markers\", \"x\": [1, 2, 3, 4], \"y\": [1, 2, 3, 4], \"type\": \"scatter\", \"uid\": \"b99f6288-7100-11e9-9634-953ac1600959\"}], {}, {\"showLink\": true, \"linkText\": \"Export to plot.ly\"})});</script>"
      ]
     },
     "metadata": {},
     "output_type": "display_data"
    }
   ],
   "source": [
    "trace = {'x': [1, 2, 3, 4], 'y': [1, 2, 3, 4], 'mode': 'markers', 'marker': {'color': 'rgba(255, 182, 193, .9)'}}\n",
    "\n",
    "plotly.offline.iplot([\n",
    "    trace\n",
    "])"
   ]
  },
  {
   "cell_type": "markdown",
   "metadata": {},
   "source": [
    "Cool!  So we changed the code to markers and changed the colors of those markers by setting the rgb (red, green, blue) value.\n",
    "\n",
    "```python\n",
    "trace = {'x': [1, 2, 3, 4], 'y': [1, 2, 3, 4], 'mode': 'markers', 'marker': {'color': 'rgba(255, 182, 193, .9)'}}\n",
    "```"
   ]
  },
  {
   "cell_type": "markdown",
   "metadata": {},
   "source": [
    "Now let's add more than one trace to a given graph.  We'll keep the first trace largely the same by using the same data, and color of markers.  We'll name our trace 'Some dots'  by adding the name attribute and set it equal to the corresponding string."
   ]
  },
  {
   "cell_type": "code",
   "execution_count": 6,
   "metadata": {},
   "outputs": [],
   "source": [
    "trace0 = {'x': [1, 2, 3, 4], 'y': [1, 2, 3, 4], \n",
    "          'mode': 'markers', 'marker': {'color': 'rgba(255, 182, 193, .9)'}, \n",
    "          'name': 'Some dots'}"
   ]
  },
  {
   "cell_type": "markdown",
   "metadata": {},
   "source": [
    "In the second trace, we have some new data, and set the color as blue.  Because we did not specify a mode, it defaults to connecting the points as a line.  And we name our trace as \"Our nice line\".   "
   ]
  },
  {
   "cell_type": "code",
   "execution_count": 7,
   "metadata": {},
   "outputs": [],
   "source": [
    "trace1 = {'x': [1.5, 2.5, 3.5, 4.5], 'y': [3, 5, 7, 9], \n",
    "          'marker': {'color': 'blue'},\n",
    "          'name': 'Our nice line'}"
   ]
  },
  {
   "cell_type": "markdown",
   "metadata": {},
   "source": [
    "Finally, we create a plot of the two traces.  "
   ]
  },
  {
   "cell_type": "code",
   "execution_count": 8,
   "metadata": {},
   "outputs": [
    {
     "data": {
      "application/vnd.plotly.v1+json": {
       "data": [
        {
         "marker": {
          "color": "rgba(255, 182, 193, .9)"
         },
         "mode": "markers",
         "name": "Some dots",
         "type": "scatter",
         "uid": "d27370e2-7100-11e9-9634-953ac1600959",
         "x": [
          1,
          2,
          3,
          4
         ],
         "y": [
          1,
          2,
          3,
          4
         ]
        },
        {
         "marker": {
          "color": "blue"
         },
         "name": "Our nice line",
         "type": "scatter",
         "uid": "d273727c-7100-11e9-9634-953ac1600959",
         "x": [
          1.5,
          2.5,
          3.5,
          4.5
         ],
         "y": [
          3,
          5,
          7,
          9
         ]
        }
       ],
       "layout": {}
      },
      "text/html": [
       "<div id=\"de2b4256-1f8a-469d-aab3-a46687ed1709\" style=\"height: 525px; width: 100%;\" class=\"plotly-graph-div\"></div><script type=\"text/javascript\">require([\"plotly\"], function(Plotly) { window.PLOTLYENV=window.PLOTLYENV || {};window.PLOTLYENV.BASE_URL=\"https://plot.ly\";Plotly.newPlot(\"de2b4256-1f8a-469d-aab3-a46687ed1709\", [{\"marker\": {\"color\": \"rgba(255, 182, 193, .9)\"}, \"mode\": \"markers\", \"name\": \"Some dots\", \"x\": [1, 2, 3, 4], \"y\": [1, 2, 3, 4], \"type\": \"scatter\", \"uid\": \"d27e55de-7100-11e9-9634-953ac1600959\"}, {\"marker\": {\"color\": \"blue\"}, \"name\": \"Our nice line\", \"x\": [1.5, 2.5, 3.5, 4.5], \"y\": [3, 5, 7, 9], \"type\": \"scatter\", \"uid\": \"d27e5796-7100-11e9-9634-953ac1600959\"}], {}, {\"showLink\": true, \"linkText\": \"Export to plot.ly\"})});</script>"
      ],
      "text/vnd.plotly.v1+html": [
       "<div id=\"de2b4256-1f8a-469d-aab3-a46687ed1709\" style=\"height: 525px; width: 100%;\" class=\"plotly-graph-div\"></div><script type=\"text/javascript\">require([\"plotly\"], function(Plotly) { window.PLOTLYENV=window.PLOTLYENV || {};window.PLOTLYENV.BASE_URL=\"https://plot.ly\";Plotly.newPlot(\"de2b4256-1f8a-469d-aab3-a46687ed1709\", [{\"marker\": {\"color\": \"rgba(255, 182, 193, .9)\"}, \"mode\": \"markers\", \"name\": \"Some dots\", \"x\": [1, 2, 3, 4], \"y\": [1, 2, 3, 4], \"type\": \"scatter\", \"uid\": \"d27e55de-7100-11e9-9634-953ac1600959\"}, {\"marker\": {\"color\": \"blue\"}, \"name\": \"Our nice line\", \"x\": [1.5, 2.5, 3.5, 4.5], \"y\": [3, 5, 7, 9], \"type\": \"scatter\", \"uid\": \"d27e5796-7100-11e9-9634-953ac1600959\"}], {}, {\"showLink\": true, \"linkText\": \"Export to plot.ly\"})});</script>"
      ]
     },
     "metadata": {},
     "output_type": "display_data"
    }
   ],
   "source": [
    "plotly.offline.iplot([\n",
    "    trace0, trace1\n",
    "])"
   ]
  },
  {
   "cell_type": "markdown",
   "metadata": {},
   "source": [
    "### Working with types"
   ]
  },
  {
   "cell_type": "markdown",
   "metadata": {},
   "source": [
    "So far, we have only worked with either scatter charts or line charts.  The two charts are really quite similar -- connecting lines versus no connecting lines  -- and plotly treats them as such.  However, there are other ways of viewing the world beyond dots and lines.  Now let's see how.\n",
    "\n",
    "For example, we can make a bar chart, simply by specifying the in our dictionary that the `type` is `bar` for a `bar` trace."
   ]
  },
  {
   "cell_type": "code",
   "execution_count": 9,
   "metadata": {},
   "outputs": [
    {
     "data": {
      "application/vnd.plotly.v1+json": {
       "data": [
        {
         "marker": {
          "color": "blue"
         },
         "name": "Our nice bar trace",
         "type": "bar",
         "uid": "e0ec448c-7100-11e9-9634-953ac1600959",
         "x": [
          "bobby",
          "susan",
          "eli",
          "malcolm"
         ],
         "y": [
          3,
          5,
          7,
          9
         ]
        }
       ],
       "layout": {}
      },
      "text/html": [
       "<div id=\"711fba4a-0b1f-455b-8c45-ef1c5ef7865d\" style=\"height: 525px; width: 100%;\" class=\"plotly-graph-div\"></div><script type=\"text/javascript\">require([\"plotly\"], function(Plotly) { window.PLOTLYENV=window.PLOTLYENV || {};window.PLOTLYENV.BASE_URL=\"https://plot.ly\";Plotly.newPlot(\"711fba4a-0b1f-455b-8c45-ef1c5ef7865d\", [{\"marker\": {\"color\": \"blue\"}, \"name\": \"Our nice bar trace\", \"x\": [\"bobby\", \"susan\", \"eli\", \"malcolm\"], \"y\": [3, 5, 7, 9], \"type\": \"bar\", \"uid\": \"e0f03920-7100-11e9-9634-953ac1600959\"}], {}, {\"showLink\": true, \"linkText\": \"Export to plot.ly\"})});</script>"
      ],
      "text/vnd.plotly.v1+html": [
       "<div id=\"711fba4a-0b1f-455b-8c45-ef1c5ef7865d\" style=\"height: 525px; width: 100%;\" class=\"plotly-graph-div\"></div><script type=\"text/javascript\">require([\"plotly\"], function(Plotly) { window.PLOTLYENV=window.PLOTLYENV || {};window.PLOTLYENV.BASE_URL=\"https://plot.ly\";Plotly.newPlot(\"711fba4a-0b1f-455b-8c45-ef1c5ef7865d\", [{\"marker\": {\"color\": \"blue\"}, \"name\": \"Our nice bar trace\", \"x\": [\"bobby\", \"susan\", \"eli\", \"malcolm\"], \"y\": [3, 5, 7, 9], \"type\": \"bar\", \"uid\": \"e0f03920-7100-11e9-9634-953ac1600959\"}], {}, {\"showLink\": true, \"linkText\": \"Export to plot.ly\"})});</script>"
      ]
     },
     "metadata": {},
     "output_type": "display_data"
    }
   ],
   "source": [
    "bar_trace = {'type': 'bar', 'x': ['bobby', 'susan', 'eli', 'malcolm'], 'y': [3, 5, 7, 9], 'marker': {'color': 'blue'}, 'name': 'Our nice bar trace'}\n",
    "\n",
    "plotly.offline.iplot([\n",
    "    bar_trace\n",
    "])"
   ]
  },
  {
   "cell_type": "markdown",
   "metadata": {},
   "source": [
    "Another way to create a bar chart is to use the constructor provided by plotly.  It's not too tricky to do so.  First, we import our `graph_objs` library from Plotly.  And then we call the bar chart constructor. "
   ]
  },
  {
   "cell_type": "code",
   "execution_count": 10,
   "metadata": {},
   "outputs": [
    {
     "data": {
      "text/plain": [
       "Bar({\n",
       "    'x': ['bobby', 'susan', 'eli', 'malcolm'], 'y': [3, 5, 7, 9]\n",
       "})"
      ]
     },
     "execution_count": 10,
     "metadata": {},
     "output_type": "execute_result"
    }
   ],
   "source": [
    "from plotly import graph_objs \n",
    "\n",
    "bar_trace_via_constructor = graph_objs.Bar(\n",
    "            x=['bobby', 'susan', 'eli', 'malcolm'],\n",
    "            y=[3, 5, 7, 9]\n",
    "    )\n",
    "\n",
    "bar_trace_via_constructor"
   ]
  },
  {
   "cell_type": "markdown",
   "metadata": {},
   "source": [
    "We refer to the function `graph_objs.Bar` as a constructor because it literally constructs python dictionaries with a key of `type` that equals `bar`.  Then, we can pass this dictionary to our `iplot` method to display our bar chart."
   ]
  },
  {
   "cell_type": "code",
   "execution_count": 11,
   "metadata": {},
   "outputs": [
    {
     "data": {
      "application/vnd.plotly.v1+json": {
       "data": [
        {
         "type": "bar",
         "uid": "0c3e5418-7101-11e9-9634-953ac1600959",
         "x": [
          "bobby",
          "susan",
          "eli",
          "malcolm"
         ],
         "y": [
          3,
          5,
          7,
          9
         ]
        }
       ],
       "layout": {}
      },
      "text/html": [
       "<div id=\"5f0db23a-3303-40de-8e25-fb174a6befd9\" style=\"height: 525px; width: 100%;\" class=\"plotly-graph-div\"></div><script type=\"text/javascript\">require([\"plotly\"], function(Plotly) { window.PLOTLYENV=window.PLOTLYENV || {};window.PLOTLYENV.BASE_URL=\"https://plot.ly\";Plotly.newPlot(\"5f0db23a-3303-40de-8e25-fb174a6befd9\", [{\"x\": [\"bobby\", \"susan\", \"eli\", \"malcolm\"], \"y\": [3, 5, 7, 9], \"type\": \"bar\", \"uid\": \"0c4df8fa-7101-11e9-9634-953ac1600959\"}], {}, {\"showLink\": true, \"linkText\": \"Export to plot.ly\"})});</script>"
      ],
      "text/vnd.plotly.v1+html": [
       "<div id=\"5f0db23a-3303-40de-8e25-fb174a6befd9\" style=\"height: 525px; width: 100%;\" class=\"plotly-graph-div\"></div><script type=\"text/javascript\">require([\"plotly\"], function(Plotly) { window.PLOTLYENV=window.PLOTLYENV || {};window.PLOTLYENV.BASE_URL=\"https://plot.ly\";Plotly.newPlot(\"5f0db23a-3303-40de-8e25-fb174a6befd9\", [{\"x\": [\"bobby\", \"susan\", \"eli\", \"malcolm\"], \"y\": [3, 5, 7, 9], \"type\": \"bar\", \"uid\": \"0c4df8fa-7101-11e9-9634-953ac1600959\"}], {}, {\"showLink\": true, \"linkText\": \"Export to plot.ly\"})});</script>"
      ]
     },
     "metadata": {},
     "output_type": "display_data"
    }
   ],
   "source": [
    "bar_trace_via_constructor = graph_objs.Bar(\n",
    "            x=['bobby', 'susan', 'eli', 'malcolm'],\n",
    "            y=[3, 5, 7, 9]\n",
    "    )\n",
    "\n",
    "\n",
    "plotly.offline.iplot([\n",
    "    bar_trace_via_constructor\n",
    "])"
   ]
  },
  {
   "cell_type": "markdown",
   "metadata": {},
   "source": [
    "Now let's look at some constructors for make other traces.  "
   ]
  },
  {
   "cell_type": "code",
   "execution_count": 12,
   "metadata": {},
   "outputs": [
    {
     "data": {
      "text/plain": [
       "Scatter()"
      ]
     },
     "execution_count": 12,
     "metadata": {},
     "output_type": "execute_result"
    }
   ],
   "source": [
    "graph_objs.Scatter()"
   ]
  },
  {
   "cell_type": "code",
   "execution_count": 13,
   "metadata": {},
   "outputs": [
    {
     "data": {
      "text/plain": [
       "Pie()"
      ]
     },
     "execution_count": 13,
     "metadata": {},
     "output_type": "execute_result"
    }
   ],
   "source": [
    "graph_objs.Pie()"
   ]
  },
  {
   "cell_type": "markdown",
   "metadata": {},
   "source": [
    "And of course, we can always use the dictionary constructor to create our dictionaries."
   ]
  },
  {
   "cell_type": "code",
   "execution_count": 14,
   "metadata": {},
   "outputs": [
    {
     "data": {
      "application/vnd.plotly.v1+json": {
       "data": [
        {
         "labels": [
          "chocolate",
          "vanilla",
          "strawberry"
         ],
         "type": "pie",
         "uid": "1714b13e-7101-11e9-9634-953ac1600959",
         "values": [
          10,
          5,
          15
         ]
        }
       ],
       "layout": {}
      },
      "text/html": [
       "<div id=\"e7b638b6-1606-41b7-9b04-1b20b4136a29\" style=\"height: 525px; width: 100%;\" class=\"plotly-graph-div\"></div><script type=\"text/javascript\">require([\"plotly\"], function(Plotly) { window.PLOTLYENV=window.PLOTLYENV || {};window.PLOTLYENV.BASE_URL=\"https://plot.ly\";Plotly.newPlot(\"e7b638b6-1606-41b7-9b04-1b20b4136a29\", [{\"labels\": [\"chocolate\", \"vanilla\", \"strawberry\"], \"values\": [10, 5, 15], \"type\": \"pie\", \"uid\": \"17193236-7101-11e9-9634-953ac1600959\"}], {}, {\"showLink\": true, \"linkText\": \"Export to plot.ly\"})});</script>"
      ],
      "text/vnd.plotly.v1+html": [
       "<div id=\"e7b638b6-1606-41b7-9b04-1b20b4136a29\" style=\"height: 525px; width: 100%;\" class=\"plotly-graph-div\"></div><script type=\"text/javascript\">require([\"plotly\"], function(Plotly) { window.PLOTLYENV=window.PLOTLYENV || {};window.PLOTLYENV.BASE_URL=\"https://plot.ly\";Plotly.newPlot(\"e7b638b6-1606-41b7-9b04-1b20b4136a29\", [{\"labels\": [\"chocolate\", \"vanilla\", \"strawberry\"], \"values\": [10, 5, 15], \"type\": \"pie\", \"uid\": \"17193236-7101-11e9-9634-953ac1600959\"}], {}, {\"showLink\": true, \"linkText\": \"Export to plot.ly\"})});</script>"
      ]
     },
     "metadata": {},
     "output_type": "display_data"
    }
   ],
   "source": [
    "pie_trace = dict(type=\"pie\", labels=[\"chocolate\", \"vanilla\", \"strawberry\"], values=[10, 5, 15])\n",
    "\n",
    "plotly.offline.iplot([\n",
    "    pie_trace\n",
    "])"
   ]
  },
  {
   "cell_type": "markdown",
   "metadata": {},
   "source": [
    "### Modifying a Chart Layout"
   ]
  },
  {
   "cell_type": "markdown",
   "metadata": {},
   "source": [
    "So far we have seen how to specify attributes of traces or charts, which display our data.  Now let's see how to modify the overall layout in our chart.\n",
    "\n",
    "Note that the format of our traces will not change."
   ]
  },
  {
   "cell_type": "code",
   "execution_count": 15,
   "metadata": {},
   "outputs": [],
   "source": [
    "trace_of_data = {'x': [1.5, 2.5, 3.5, 4.5], 'y': [3, 5, 7, 9], \n",
    "                 'marker': {'color': 'blue'},\n",
    "                 'name': 'Our nice line'}"
   ]
  },
  {
   "cell_type": "markdown",
   "metadata": {},
   "source": [
    "However, instead of passing to our `iplot` function a list of traces, we pass our `iplot` function a dictionary with a `data` key, which has a value of a list of traces.  The `layout` key points to a dictionary representing our layout."
   ]
  },
  {
   "cell_type": "code",
   "execution_count": 16,
   "metadata": {},
   "outputs": [
    {
     "data": {
      "application/vnd.plotly.v1+json": {
       "data": [
        {
         "marker": {
          "color": "blue"
         },
         "name": "Our nice line",
         "type": "scatter",
         "uid": "350a5054-7101-11e9-9634-953ac1600959",
         "x": [
          1.5,
          2.5,
          3.5,
          4.5
         ],
         "y": [
          3,
          5,
          7,
          9
         ]
        }
       ],
       "layout": {
        "title": "Scatter Plot"
       }
      },
      "text/html": [
       "<div id=\"f0fb8035-03f0-48f1-8668-f7144bb1ff0f\" style=\"height: 525px; width: 100%;\" class=\"plotly-graph-div\"></div><script type=\"text/javascript\">require([\"plotly\"], function(Plotly) { window.PLOTLYENV=window.PLOTLYENV || {};window.PLOTLYENV.BASE_URL=\"https://plot.ly\";Plotly.newPlot(\"f0fb8035-03f0-48f1-8668-f7144bb1ff0f\", [{\"marker\": {\"color\": \"blue\"}, \"name\": \"Our nice line\", \"x\": [1.5, 2.5, 3.5, 4.5], \"y\": [3, 5, 7, 9], \"type\": \"scatter\", \"uid\": \"3511f458-7101-11e9-9634-953ac1600959\"}], {\"title\": \"Scatter Plot\"}, {\"showLink\": true, \"linkText\": \"Export to plot.ly\"})});</script>"
      ],
      "text/vnd.plotly.v1+html": [
       "<div id=\"f0fb8035-03f0-48f1-8668-f7144bb1ff0f\" style=\"height: 525px; width: 100%;\" class=\"plotly-graph-div\"></div><script type=\"text/javascript\">require([\"plotly\"], function(Plotly) { window.PLOTLYENV=window.PLOTLYENV || {};window.PLOTLYENV.BASE_URL=\"https://plot.ly\";Plotly.newPlot(\"f0fb8035-03f0-48f1-8668-f7144bb1ff0f\", [{\"marker\": {\"color\": \"blue\"}, \"name\": \"Our nice line\", \"x\": [1.5, 2.5, 3.5, 4.5], \"y\": [3, 5, 7, 9], \"type\": \"scatter\", \"uid\": \"3511f458-7101-11e9-9634-953ac1600959\"}], {\"title\": \"Scatter Plot\"}, {\"showLink\": true, \"linkText\": \"Export to plot.ly\"})});</script>"
      ]
     },
     "metadata": {},
     "output_type": "display_data"
    }
   ],
   "source": [
    "layout = {'title': 'Scatter Plot'}\n",
    "trace_of_data = {'x': [1.5, 2.5, 3.5, 4.5], 'y': [3, 5, 7, 9], 'marker': {'color': 'blue'}, 'name': 'Our nice line'}\n",
    "\n",
    "figure = {'data': [trace_of_data], 'layout': layout}\n",
    "\n",
    "plotly.offline.iplot(figure)"
   ]
  },
  {
   "cell_type": "markdown",
   "metadata": {},
   "source": [
    "So above we used the `layout` to name our plot's title.  Now that we have used `layout` to specify our chart's title, let's also use it to specify the range of our x axis and y axis.  Previously, we were allowing Plotly to automatically set the range.  We can also adjust the range to meet our specifications."
   ]
  },
  {
   "cell_type": "code",
   "execution_count": 17,
   "metadata": {},
   "outputs": [
    {
     "data": {
      "application/vnd.plotly.v1+json": {
       "data": [
        {
         "marker": {
          "color": "blue"
         },
         "name": "Our nice line",
         "type": "scatter",
         "uid": "4357fdbe-7101-11e9-9634-953ac1600959",
         "x": [
          1.5,
          2.5,
          3.5,
          4.5
         ],
         "y": [
          3,
          5,
          7,
          9
         ]
        }
       ],
       "layout": {
        "title": "Scatter Plot",
        "xaxis": {
         "range": [
          1,
          10
         ]
        },
        "yaxis": {
         "range": [
          1,
          10
         ]
        }
       }
      },
      "text/html": [
       "<div id=\"ed1abff3-4cbd-4ce5-accb-cf341c6064af\" style=\"height: 525px; width: 100%;\" class=\"plotly-graph-div\"></div><script type=\"text/javascript\">require([\"plotly\"], function(Plotly) { window.PLOTLYENV=window.PLOTLYENV || {};window.PLOTLYENV.BASE_URL=\"https://plot.ly\";Plotly.newPlot(\"ed1abff3-4cbd-4ce5-accb-cf341c6064af\", [{\"marker\": {\"color\": \"blue\"}, \"name\": \"Our nice line\", \"x\": [1.5, 2.5, 3.5, 4.5], \"y\": [3, 5, 7, 9], \"type\": \"scatter\", \"uid\": \"435f7364-7101-11e9-9634-953ac1600959\"}], {\"title\": \"Scatter Plot\", \"xaxis\": {\"range\": [1, 10]}, \"yaxis\": {\"range\": [1, 10]}}, {\"showLink\": true, \"linkText\": \"Export to plot.ly\"})});</script>"
      ],
      "text/vnd.plotly.v1+html": [
       "<div id=\"ed1abff3-4cbd-4ce5-accb-cf341c6064af\" style=\"height: 525px; width: 100%;\" class=\"plotly-graph-div\"></div><script type=\"text/javascript\">require([\"plotly\"], function(Plotly) { window.PLOTLYENV=window.PLOTLYENV || {};window.PLOTLYENV.BASE_URL=\"https://plot.ly\";Plotly.newPlot(\"ed1abff3-4cbd-4ce5-accb-cf341c6064af\", [{\"marker\": {\"color\": \"blue\"}, \"name\": \"Our nice line\", \"x\": [1.5, 2.5, 3.5, 4.5], \"y\": [3, 5, 7, 9], \"type\": \"scatter\", \"uid\": \"435f7364-7101-11e9-9634-953ac1600959\"}], {\"title\": \"Scatter Plot\", \"xaxis\": {\"range\": [1, 10]}, \"yaxis\": {\"range\": [1, 10]}}, {\"showLink\": true, \"linkText\": \"Export to plot.ly\"})});</script>"
      ]
     },
     "metadata": {},
     "output_type": "display_data"
    }
   ],
   "source": [
    "layout = {'title': 'Scatter Plot', 'xaxis': {'range': [1, 10]}, 'yaxis': {'range': [1, 10]}}\n",
    "trace_of_data = {'x': [1.5, 2.5, 3.5, 4.5], 'y': [3, 5, 7, 9], 'marker': {'color': 'blue'}, 'name': 'Our nice line'}\n",
    "\n",
    "figure = {'data': [trace_of_data], 'layout': layout}\n",
    "\n",
    "plotly.offline.iplot(figure)"
   ]
  },
  {
   "cell_type": "markdown",
   "metadata": {},
   "source": [
    "We can see how adjusting the range changes our perspective of the plotted x and y values."
   ]
  },
  {
   "cell_type": "markdown",
   "metadata": {},
   "source": [
    "### Summary"
   ]
  },
  {
   "cell_type": "markdown",
   "metadata": {},
   "source": [
    "In this section we explored more of Plotly's library to create different data visualizations.  We created different traces to represent our data, with each trace represented as a dictionary passed to our `iplot` method.  We saw how to display multiple traces in a chart by wrapping the traces in a list.  We learned how to use constructors like `graph_objs.Bar` to create a chart. The constructor creates a dictionary that we can pass to our `iplot` method.  Finally, we moved onto modifying the layout of our charts with another python dictionary."
   ]
  }
 ],
 "metadata": {
  "kernelspec": {
   "display_name": "Python 3",
   "language": "python",
   "name": "python3"
  },
  "language_info": {
   "codemirror_mode": {
    "name": "ipython",
    "version": 3
   },
   "file_extension": ".py",
   "mimetype": "text/x-python",
   "name": "python",
   "nbconvert_exporter": "python",
   "pygments_lexer": "ipython3",
   "version": "3.6.6"
  }
 },
 "nbformat": 4,
 "nbformat_minor": 2
}
